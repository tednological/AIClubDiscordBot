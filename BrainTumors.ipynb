{
  "nbformat": 4,
  "nbformat_minor": 0,
  "metadata": {
    "colab": {
      "provenance": [],
      "include_colab_link": true
    },
    "kernelspec": {
      "name": "python3",
      "display_name": "Python 3"
    },
    "language_info": {
      "name": "python"
    }
  },
  "cells": [
    {
      "cell_type": "markdown",
      "metadata": {
        "id": "view-in-github",
        "colab_type": "text"
      },
      "source": [
        "<a href=\"https://colab.research.google.com/github/tednological/AIClubDiscordBot/blob/main/BrainTumors.ipynb\" target=\"_parent\"><img src=\"https://colab.research.google.com/assets/colab-badge.svg\" alt=\"Open In Colab\"/></a>"
      ]
    },
    {
      "cell_type": "code",
      "execution_count": null,
      "metadata": {
        "id": "vGTiFEOW8tnC"
      },
      "outputs": [],
      "source": [
        "import os\n",
        "import pandas as pd\n",
        "from PIL import Image\n",
        "import numpy as np\n",
        "from sklearn.model_selection import train_test_split\n",
        "\n",
        "# Set up the directories where your images are stored.\n",
        "# Make sure to update these paths to where your actual image folders are located.\n",
        "tumor_dir = 'path/to/your/tumor_images'       # Directory with brains having tumors\n",
        "non_tumor_dir = 'path/to/your/non_tumor_images' # Directory with brains without tumors\n",
        "\n",
        "# Define the target size for the images (width, height). Feel free to adjust as needed.\n",
        "target_size = (128, 128)\n",
        "\n",
        "# Lists to hold the image data and corresponding labels.\n",
        "data = []\n",
        "labels = []\n",
        "\n",
        "def process_images(directory, label):\n",
        "    \"\"\"\n",
        "    Loads images from the specified directory, converts them to greyscale,\n",
        "    resizes them to the target size, and appends them to the global lists.\n",
        "    \"\"\"\n",
        "    for filename in os.listdir(directory):\n",
        "        # Check for common image file extensions.\n",
        "        if filename.lower().endswith(('.png', '.jpg', '.jpeg')):\n",
        "            img_path = os.path.join(directory, filename)\n",
        "            try:\n",
        "                # Open the image, convert it to greyscale, and resize it.\n",
        "                img = Image.open(img_path).convert('L')\n",
        "                img = img.resize(target_size)\n",
        "                # Convert the image to a NumPy array.\n",
        "                img_array = np.array(img)\n",
        "                data.append(img_array)\n",
        "                labels.append(label)\n",
        "            except Exception as e:\n",
        "                print(f\"Could not process {img_path}: {e}\")\n",
        "\n",
        "# Process images from both directories.\n",
        "process_images(tumor_dir, label=1)      # Label 1 indicates a tumor.\n",
        "process_images(non_tumor_dir, label=0)  # Label 0 indicates no tumor.\n",
        "\n",
        "# Create a Pandas DataFrame with the image data and labels.\n",
        "df = pd.DataFrame({\n",
        "    'image': data,\n",
        "    'label': labels\n",
        "})\n",
        "\n",
        "# Split the DataFrame into training (80%) and testing (20%) sets.\n",
        "train_df, test_df = train_test_split(df, test_size=0.2, stratify=df['label'], random_state=42)\n",
        "\n",
        "print(f\"Number of training samples: {len(train_df)}\")\n",
        "print(f\"Number of testing samples: {len(test_df)}\")\n"
      ]
    }
  ]
}